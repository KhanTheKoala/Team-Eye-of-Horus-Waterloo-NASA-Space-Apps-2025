{
 "cells": [
  {
   "cell_type": "code",
   "execution_count": 1,
   "id": "9c56f0f8",
   "metadata": {},
   "outputs": [],
   "source": [
    "## Imports\n",
    "\n",
    "from pci.vread import vread\n",
    "from pci.pnt2ras import pnt2ras\n",
    "import requests\n",
    "import pandas as pd\n",
    "from pathlib import Path\n",
    "import json\n",
    "from datetime import datetime\n",
    "import numpy as np\n",
    "import concurrent.futures\n",
    "import os\n",
    "from matplotlib import pyplot as plt\n",
    "import shutil"
   ]
  },
  {
   "cell_type": "code",
   "execution_count": null,
   "id": "ae297894",
   "metadata": {},
   "outputs": [
    {
     "ename": "FileFormatException",
     "evalue": "File format error:\n  all_locations_data_4.txt\nReason: Failed to open requested file, unrecognised format.\n",
     "output_type": "error",
     "traceback": [
      "\u001b[1;31m---------------------------------------------------------------------------\u001b[0m",
      "\u001b[1;31mFileFormatException\u001b[0m                       Traceback (most recent call last)",
      "Cell \u001b[1;32mIn[6], line 11\u001b[0m\n\u001b[0;32m      8\u001b[0m ftype    \u001b[38;5;241m=\u001b[39m \u001b[38;5;124m\"\u001b[39m\u001b[38;5;124mPIX\u001b[39m\u001b[38;5;124m\"\u001b[39m                           \u001b[38;5;66;03m# output format type\u001b[39;00m\n\u001b[0;32m      9\u001b[0m foptions \u001b[38;5;241m=\u001b[39m \u001b[38;5;124m\"\u001b[39m\u001b[38;5;124mBAND\u001b[39m\u001b[38;5;124m\"\u001b[39m                          \u001b[38;5;66;03m# output format options\u001b[39;00m\n\u001b[1;32m---> 11\u001b[0m \u001b[43mpnt2ras\u001b[49m\u001b[43m(\u001b[49m\u001b[43m \u001b[49m\u001b[43mfili\u001b[49m\u001b[43m,\u001b[49m\u001b[43m \u001b[49m\u001b[43mdbvs\u001b[49m\u001b[43m,\u001b[49m\u001b[43m \u001b[49m\u001b[43mfilo\u001b[49m\u001b[43m,\u001b[49m\u001b[43m \u001b[49m\u001b[43mdboc\u001b[49m\u001b[43m,\u001b[49m\u001b[43m \u001b[49m\u001b[43mfldnme\u001b[49m\u001b[43m,\u001b[49m\u001b[43m \u001b[49m\u001b[43mstatatt\u001b[49m\u001b[43m,\u001b[49m\u001b[43m \u001b[49m\u001b[43mpixres\u001b[49m\u001b[43m,\u001b[49m\u001b[43m \u001b[49m\u001b[43mftype\u001b[49m\u001b[43m,\u001b[49m\u001b[43m \u001b[49m\u001b[43mfoptions\u001b[49m\u001b[43m \u001b[49m\u001b[43m)\u001b[49m\n",
      "\u001b[1;31mFileFormatException\u001b[0m: File format error:\n  all_locations_data_4.txt\nReason: Failed to open requested file, unrecognised format.\n"
     ]
    }
   ],
   "source": [
    "fili     = \"all_locations_data_4.txt\"      # input file with point layer\n",
    "dbvs     = [2]                            # point layer (segment number)\n",
    "filo     = \"testvec.pix\"                   # output file to be created\n",
    "dboc     = []                              # output channel will be created (empty list for new file)\n",
    "fldnme   = \"Area\"                          # use Area attribute as pixel values\n",
    "statatt  = \"MEAN\"                          # Take the mean of all points in each pixel\n",
    "pixres   = [60.0, 60.0]                   # make 60 meter square pixels (must be floats)\n",
    "ftype    = \"PIX\"                           # output format type\n",
    "foptions = \"\"                              # output format options (empty string, not \"BAND\")\n",
    "\n",
    "pnt2ras( fili, dbvs, filo, dboc, fldnme, statatt, pixres, ftype, foptions )"
   ]
  }
 ],
 "metadata": {
  "kernelspec": {
   "display_name": "Python 3",
   "language": "python",
   "name": "python3"
  },
  "language_info": {
   "codemirror_mode": {
    "name": "ipython",
    "version": 3
   },
   "file_extension": ".py",
   "mimetype": "text/x-python",
   "name": "python",
   "nbconvert_exporter": "python",
   "pygments_lexer": "ipython3",
   "version": "3.10.11"
  }
 },
 "nbformat": 4,
 "nbformat_minor": 5
}
